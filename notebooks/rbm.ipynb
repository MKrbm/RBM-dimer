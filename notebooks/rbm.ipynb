{
 "cells": [
  {
   "cell_type": "code",
   "execution_count": 1,
   "metadata": {},
   "outputs": [],
   "source": [
    "import sys\n",
    "sys.path.insert(0, \"../\")"
   ]
  },
  {
   "cell_type": "code",
   "execution_count": 2,
   "metadata": {},
   "outputs": [
    {
     "name": "stderr",
     "output_type": "stream",
     "text": [
      "An NVIDIA GPU may be present on this machine, but a CUDA-enabled jaxlib is not installed. Falling back to cpu.\n",
      "/home/user/miniconda3/envs/rbm/lib/python3.10/site-packages/tqdm/auto.py:21: TqdmWarning: IProgress not found. Please update jupyter and ipywidgets. See https://ipywidgets.readthedocs.io/en/stable/user_install.html\n",
      "  from .autonotebook import tqdm as notebook_tqdm\n"
     ]
    }
   ],
   "source": [
    "import numpy as np\n",
    "import netket as nk\n",
    "import jax"
   ]
  },
  {
   "cell_type": "code",
   "execution_count": 22,
   "metadata": {},
   "outputs": [],
   "source": [
    "import sys\n",
    "sys.path.insert(0, \"../\")\n",
    "from spinlattice.lattice import get_lattice_data, LatticeData\n",
    "\n"
   ]
  },
  {
   "cell_type": "code",
   "execution_count": 23,
   "metadata": {},
   "outputs": [
    {
     "name": "stdout",
     "output_type": "stream",
     "text": [
      "Bond Types and Bonds:\n",
      "Loop Types and Loops:\n"
     ]
    }
   ],
   "source": [
    "lt_info = get_lattice_data(\"dimer-hexagonal-lattice\", \"dimer-hexagonal\", [2, 2,], \"periodic\")"
   ]
  },
  {
   "cell_type": "code",
   "execution_count": 92,
   "metadata": {},
   "outputs": [],
   "source": [
    "from abc import ABC, abstractmethod\n",
    "from netket.operator.spin import sigmax,sigmaz, identity\n",
    "\n",
    "class DimerModel(ABC):\n",
    "    def __init__(self, lattice_data: LatticeData):\n",
    "        self.lattice_data = lattice_data\n",
    "        self.n_sites = lattice_data.n_sites()\n",
    "        self.hi = nk.hilbert.Spin(s=1 / 2, N=self.n_sites)\n",
    "\n",
    "    @abstractmethod\n",
    "    def projection(self):\n",
    "        pass\n",
    "\n",
    "\n",
    "    # @abstractmethod\n",
    "    def hamiltonian(self, V : float, h : float):\n",
    "        \"\"\"\n",
    "        V : float\n",
    "            The strength of the dimer-dimer interaction\n",
    "        h : float\n",
    "            The strength of the dimer-flip\n",
    "        \"\"\"\n",
    "        pass\n",
    "\n",
    "    @abstractmethod\n",
    "    def _dimer_potential_local(self, V : float):\n",
    "        \"\"\"\n",
    "        Return the local operator for the dimer-dimer interaction.\n",
    "\n",
    "        The definition depends on the lattice\n",
    "        \"\"\"\n",
    "        pass\n",
    "\n",
    "    def dimer_potential(self, V : float):\n",
    "        return sum([self._dimer_potential_local(b) for b in range(self.lattice_data.n_bonds())])\n",
    "\n",
    "    def dimer_flip(self, h : float):\n",
    "        \"\"\"\n",
    "        Return the system operator for the dimer-flip term\n",
    "        \"\"\"\n",
    "        return sum([self._dimer_flip_local(b) for b in range(self.lattice_data.n_bonds())])\n",
    "\n",
    "\n",
    "    def _dimer_flip_local(self, b : int):\n",
    "        \"\"\"\n",
    "        Flips the dimer at bond b\n",
    "        \"\"\"\n",
    "        bond = self.lattice_data.bonds[b]\n",
    "        return sigmax(self.hi, bond[0]) * sigmax(self.hi, bond[1]) \n",
    "\n",
    "class DimerHexagonal(DimerModel):\n",
    "    def __init__(self, lattice_data: LatticeData):\n",
    "        super().__init__(lattice_data)\n",
    "    \n",
    "    def projection(self):\n",
    "        loops = self.lattice_data.loops\n",
    "        bonds = self.lattice_data.bonds\n",
    "        bond_colors = self.lattice_data.bond_types\n",
    "\n",
    "        _projection_bonds = []\n",
    "        _projection_bond_coords = []\n",
    "\n",
    "        self.projections = []\n",
    "        for loop in loops:\n",
    "            bi = np.where(np.isin(bonds, loop).all(axis=1))[0] # bond indices\n",
    "            assert len(bi) == 6\n",
    "            local_projection = sum([((-1) ** c) * sigmaz(self.hi, e[0]) * sigmaz(self.hi, e[1]) for e, c in zip(bonds[bi], bond_colors[bi])])\n",
    "            local_projection -= 4 * identity(self.hi)\n",
    "            self.projections.append(local_projection)\n",
    "        \n",
    "        return sum(self.projections)\n",
    "    \n",
    "    def _dimer_potential_local(self, b : int):\n",
    "        \"\"\"\n",
    "        Return the local operator for the dimer-dimer interaction.\n",
    "        \"\"\"\n",
    "        bonds = self.lattice_data.bonds\n",
    "        bond = bonds[b]\n",
    "        coords = self.lattice_data.coordinates  \n",
    "\n",
    "        b1 = bond[0]\n",
    "        b2 = bond[1]\n",
    "\n",
    "        conn_b1 = np.where(np.isin(bonds, b1).any(axis=1))[0]\n",
    "        conn_b1 = conn_b1[conn_b1 != b]\n",
    "        sites_conn_b1 = np.unique(bonds[conn_b1].reshape(-1))\n",
    "        sites_conn_b1 = sites_conn_b1[sites_conn_b1 != b1]\n",
    "\n",
    "        vec_b1 = coords[sites_conn_b1] - coords[b1]\n",
    "\n",
    "        sym_b1 = coords[b2] - vec_b1\n",
    "\n",
    "        # search for the coordinates\n",
    "        sym_b1 = np.where(np.isin(coords, sym_b1).all(axis=1))[0]\n",
    "\n",
    "        conn_b2 = np.where(np.isin(bonds, b2).any(axis=1))[0]\n",
    "        conn_b2 = conn_b2[conn_b2 != b]\n",
    "        sites_conn_b2 = np.unique(bonds[conn_b2].reshape(-1))\n",
    "        sites_conn_b2 = sites_conn_b2[sites_conn_b2 != b2]\n",
    "\n",
    "        # vec_b2 = coords[sites_conn_b2] - coords[b2]\n",
    "\n",
    "\n",
    "\n",
    "\n",
    "        # b2 = bond[1]\n",
    "        # conn_b2 = np.where(np.isin(bonds, b2).any(axis=1))[0]\n",
    "        # conn_b2 = conn_b2[conn_b2 != b]\n",
    "        # print(conn_b2)\n"
   ]
  },
  {
   "cell_type": "code",
   "execution_count": 93,
   "metadata": {},
   "outputs": [
    {
     "name": "stdout",
     "output_type": "stream",
     "text": [
      "[[1.83333333 0.28867513]\n",
      " [1.83333333 0.8660254 ]]\n"
     ]
    }
   ],
   "source": [
    "dimer = DimerHexagonal(lt_info)\n",
    "dimer_projection = dimer.projection()\n",
    "dimer._dimer_potential_local(0)"
   ]
  },
  {
   "cell_type": "code",
   "execution_count": 88,
   "metadata": {},
   "outputs": [
    {
     "name": "stdout",
     "output_type": "stream",
     "text": [
      "[ 0  7 15]\n"
     ]
    }
   ],
   "source": [
    "\n"
   ]
  },
  {
   "cell_type": "code",
   "execution_count": 59,
   "metadata": {},
   "outputs": [
    {
     "data": {
      "text/plain": [
       "(array([[1., 1., 1., 1., 1., 1., 1., 1., 1., 1., 1., 1., 1., 1., 1., 1.]]),\n",
       " array([0.]))"
      ]
     },
     "execution_count": 59,
     "metadata": {},
     "output_type": "execute_result"
    }
   ],
   "source": [
    "dimer_projection.get_conn(np.ones(dimer.n_sites))"
   ]
  },
  {
   "cell_type": "code",
   "execution_count": null,
   "metadata": {},
   "outputs": [],
   "source": [
    "b = np.zeros_like(bonds, dtype=bool)\n",
    "np.where(np.isin(bonds, loops[0]).all(axis=1))[0]\n"
   ]
  },
  {
   "cell_type": "code",
   "execution_count": 16,
   "metadata": {},
   "outputs": [],
   "source": [
    "import os\n",
    "os.environ[\"JAX_PLATFORM_NAME\"] = \"cpu\"\n"
   ]
  },
  {
   "cell_type": "code",
   "execution_count": 17,
   "metadata": {},
   "outputs": [],
   "source": [
    "N = lt_info.n_sites()\n",
    "hi = nk.hilbert.Spin(s=1 / 2, N=N)"
   ]
  },
  {
   "cell_type": "code",
   "execution_count": 8,
   "metadata": {},
   "outputs": [],
   "source": [
    "from netket.operator.spin import sigmax,sigmaz, identity\n",
    "\n",
    "\n",
    "Gamma=[1, -1]\n",
    "H = sum([Gamma[c]*sigmax(hi,e[0]) * sigmax(hi, e[1]) for e, c in zip(lt_info.bonds, lt_info.bond_types)])\n",
    "I = identity(hi)\n"
   ]
  },
  {
   "cell_type": "code",
   "execution_count": 10,
   "metadata": {},
   "outputs": [
    {
     "data": {
      "text/plain": [
       "(array([[1., 1., 1., 1., 1., 1., 1., 1., 1., 1., 1., 1., 1., 1., 1., 1.]]),\n",
       " array([1.]))"
      ]
     },
     "execution_count": 10,
     "metadata": {},
     "output_type": "execute_result"
    }
   ],
   "source": [
    "I._setup()\n",
    "I.get_conn(np.ones(N))"
   ]
  },
  {
   "cell_type": "code",
   "execution_count": 11,
   "metadata": {},
   "outputs": [
    {
     "data": {
      "text/plain": [
       "(array([[-1., -1.,  1.,  1.,  1.,  1.,  1.,  1.,  1.,  1.,  1.,  1.,  1.,\n",
       "          1.,  1.,  1.],\n",
       "        [ 1., -1., -1.,  1.,  1.,  1.,  1.,  1.,  1.,  1.,  1.,  1.,  1.,\n",
       "          1.,  1.,  1.],\n",
       "        [ 1.,  1., -1., -1.,  1.,  1.,  1.,  1.,  1.,  1.,  1.,  1.,  1.,\n",
       "          1.,  1.,  1.],\n",
       "        [ 1.,  1., -1.,  1.,  1.,  1.,  1.,  1.,  1., -1.,  1.,  1.,  1.,\n",
       "          1.,  1.,  1.],\n",
       "        [ 1.,  1.,  1., -1., -1.,  1.,  1.,  1.,  1.,  1.,  1.,  1.,  1.,\n",
       "          1.,  1.,  1.],\n",
       "        [ 1.,  1.,  1., -1.,  1.,  1.,  1.,  1.,  1.,  1.,  1.,  1., -1.,\n",
       "          1.,  1.,  1.],\n",
       "        [ 1.,  1.,  1.,  1., -1., -1.,  1.,  1.,  1.,  1.,  1.,  1.,  1.,\n",
       "          1.,  1.,  1.],\n",
       "        [ 1.,  1.,  1.,  1.,  1., -1., -1.,  1.,  1.,  1.,  1.,  1.,  1.,\n",
       "          1.,  1.,  1.],\n",
       "        [ 1.,  1.,  1.,  1.,  1.,  1., -1., -1.,  1.,  1.,  1.,  1.,  1.,\n",
       "          1.,  1.,  1.],\n",
       "        [ 1.,  1.,  1.,  1.,  1.,  1., -1.,  1.,  1.,  1.,  1.,  1.,  1.,\n",
       "         -1.,  1.,  1.],\n",
       "        [-1.,  1.,  1.,  1.,  1.,  1.,  1., -1.,  1.,  1.,  1.,  1.,  1.,\n",
       "          1.,  1.,  1.],\n",
       "        [ 1.,  1.,  1.,  1.,  1.,  1.,  1., -1., -1.,  1.,  1.,  1.,  1.,\n",
       "          1.,  1.,  1.],\n",
       "        [ 1.,  1.,  1.,  1.,  1.,  1.,  1.,  1., -1., -1.,  1.,  1.,  1.,\n",
       "          1.,  1.,  1.],\n",
       "        [ 1.,  1.,  1.,  1.,  1.,  1.,  1.,  1.,  1., -1., -1.,  1.,  1.,\n",
       "          1.,  1.,  1.],\n",
       "        [ 1.,  1.,  1.,  1.,  1.,  1.,  1.,  1.,  1.,  1., -1., -1.,  1.,\n",
       "          1.,  1.,  1.],\n",
       "        [ 1., -1.,  1.,  1.,  1.,  1.,  1.,  1.,  1.,  1., -1.,  1.,  1.,\n",
       "          1.,  1.,  1.],\n",
       "        [ 1.,  1.,  1.,  1.,  1.,  1.,  1.,  1.,  1.,  1.,  1., -1., -1.,\n",
       "          1.,  1.,  1.],\n",
       "        [ 1.,  1.,  1.,  1., -1.,  1.,  1.,  1.,  1.,  1.,  1., -1.,  1.,\n",
       "          1.,  1.,  1.],\n",
       "        [ 1.,  1.,  1.,  1.,  1.,  1.,  1.,  1.,  1.,  1.,  1.,  1., -1.,\n",
       "         -1.,  1.,  1.],\n",
       "        [ 1.,  1.,  1.,  1.,  1.,  1.,  1.,  1.,  1.,  1.,  1.,  1.,  1.,\n",
       "         -1., -1.,  1.],\n",
       "        [ 1.,  1.,  1.,  1.,  1.,  1.,  1.,  1.,  1.,  1.,  1.,  1.,  1.,\n",
       "          1., -1., -1.],\n",
       "        [ 1.,  1.,  1.,  1.,  1., -1.,  1.,  1.,  1.,  1.,  1.,  1.,  1.,\n",
       "          1., -1.,  1.],\n",
       "        [ 1.,  1.,  1.,  1.,  1.,  1.,  1.,  1., -1.,  1.,  1.,  1.,  1.,\n",
       "          1.,  1., -1.],\n",
       "        [-1.,  1.,  1.,  1.,  1.,  1.,  1.,  1.,  1.,  1.,  1.,  1.,  1.,\n",
       "          1.,  1., -1.]]),\n",
       " array([-1.,  1.,  1.,  1.,  1.,  1., -1.,  1.,  1.,  1.,  1.,  1., -1.,\n",
       "         1.,  1.,  1.,  1.,  1., -1.,  1.,  1.,  1.,  1.,  1.]))"
      ]
     },
     "execution_count": 11,
     "metadata": {},
     "output_type": "execute_result"
    }
   ],
   "source": [
    "H.get_conn(np.ones(N))\n",
    "\n"
   ]
  },
  {
   "cell_type": "code",
   "execution_count": null,
   "metadata": {},
   "outputs": [],
   "source": []
  }
 ],
 "metadata": {
  "kernelspec": {
   "display_name": "py310",
   "language": "python",
   "name": "python3"
  },
  "language_info": {
   "codemirror_mode": {
    "name": "ipython",
    "version": 3
   },
   "file_extension": ".py",
   "mimetype": "text/x-python",
   "name": "python",
   "nbconvert_exporter": "python",
   "pygments_lexer": "ipython3",
   "version": "3.10.14"
  }
 },
 "nbformat": 4,
 "nbformat_minor": 2
}
