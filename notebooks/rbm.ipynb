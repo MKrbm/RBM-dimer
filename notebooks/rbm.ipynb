{
 "cells": [
  {
   "cell_type": "code",
   "execution_count": 3,
   "metadata": {},
   "outputs": [],
   "source": [
    "import sys\n",
    "sys.path.insert(0, \"../\")"
   ]
  },
  {
   "cell_type": "code",
   "execution_count": 4,
   "metadata": {},
   "outputs": [],
   "source": [
    "import numpy as np\n",
    "import netket as nk\n",
    "from netket.operator.spin import sigmax, sigmaz\n",
    "import jax\n",
    "\n"
   ]
  },
  {
   "cell_type": "code",
   "execution_count": null,
   "metadata": {},
   "outputs": [],
   "source": []
  },
  {
   "cell_type": "code",
   "execution_count": 5,
   "metadata": {},
   "outputs": [],
   "source": [
    "from spinlattice.lattice import get_lattice_data, LatticeData\n",
    "from spinlattice.models.dimer import DimerHexagonal\n",
    "\n",
    "%load_ext autoreload\n",
    "%autoreload 2\n"
   ]
  },
  {
   "cell_type": "code",
   "execution_count": 6,
   "metadata": {},
   "outputs": [],
   "source": [
    "lattice = get_lattice_data(\n",
    "    \"dimer-hexagonal-lattice\",\n",
    "    \"dimer-hexagonal\",\n",
    "    [\n",
    "        2,\n",
    "        2,\n",
    "    ],\n",
    "    \"periodic\",\n",
    ")\n",
    "dimer = DimerHexagonal(lattice)"
   ]
  },
  {
   "cell_type": "code",
   "execution_count": 7,
   "metadata": {},
   "outputs": [
    {
     "data": {
      "image/png": "[encoded data removed]",
      "text/plain": [
       "<Figure size 640x480 with 1 Axes>"
      ]
     },
     "metadata": {},
     "output_type": "display_data"
    }
   ],
   "source": [
    "g=nk.graph.Honeycomb(extent=[2, 4], pbc=False)\n",
    "pos = g.positions\n",
    "edges = g.edges()\n",
    "\n",
    "# Plot posistions of nodes  and edges\n",
    "import matplotlib.pyplot as plt\n",
    "plt.scatter(pos[:, 0], pos[:, 1])\n",
    "for edge in edges:\n",
    "    x_coords = [pos[edge[0], 0], pos[edge[1], 0]]\n",
    "    y_coords = [pos[edge[0], 1], pos[edge[1], 1]]\n",
    "    plt.plot(x_coords, y_coords, 'k-')\n",
    "#set the same scale for x and y\n",
    "plt.gca().set_aspect('equal')\n",
    "plt.show()\n",
    "\n"
   ]
  },
  {
   "cell_type": "code",
   "execution_count": 126,
   "metadata": {},
   "outputs": [],
   "source": [
    "H = dimer.hamiltonian(1.0, 1.0)\n",
    "# H = dimer.dimer_flip(1.0)\n",
    "H._setup()\n",
    "x = np.ones(H.hilbert.size)\n",
    "# np.isnan( H._mels ).sum(axis=(1, 2))"
   ]
  },
  {
   "cell_type": "code",
   "execution_count": 157,
   "metadata": {},
   "outputs": [
    {
     "data": {
      "text/plain": [
       "16"
      ]
     },
     "execution_count": 157,
     "metadata": {},
     "output_type": "execute_result"
    }
   ],
   "source": [
    "H.hilbert.size"
   ]
  },
  {
   "cell_type": "code",
   "execution_count": 136,
   "metadata": {},
   "outputs": [
    {
     "name": "stderr",
     "output_type": "stream",
     "text": [
      "/Users/keisuke/miniconda3/envs/py310/lib/python3.10/site-packages/netket/vqs/mc/mc_state/state.py:257: UserWarning: n_samples=1000 (1000 per device/MPI rank) does not divide n_chains=16, increased to 1008 (1008 per device/MPI rank)\n",
      "  self.n_samples = n_samples\n",
      "100%|██████████| 600/600 [00:11<00:00, 50.89it/s, Energy=-6.032 ± 0.028 [σ²=0.781, R̂=1.0058]]"
     ]
    },
    {
     "name": "stdout",
     "output_type": "stream",
     "text": [
      "### RBM calculation\n",
      "Has 256 parameters\n",
      "The RBM calculation took 11.823448181152344 seconds\n"
     ]
    },
    {
     "name": "stderr",
     "output_type": "stream",
     "text": [
      "\n"
     ]
    }
   ],
   "source": [
    "import time\n",
    "\n",
    "ma = nk.models.RBM(alpha=1, use_hidden_bias=False, use_visible_bias=False)\n",
    "H = dimer.effective_hamiltonian(1.0, 1.0, 1)\n",
    "# H = H.to_jax_operator()\n",
    "# Build the sampler\n",
    "sa = nk.sampler.MetropolisHamiltonian(hilbert=dimer.hi, hamiltonian=H)\n",
    "# sa = nk.sampler.MetropolisLocal(hilbert=dimer.hi)\n",
    "# Optimizer\n",
    "op = nk.optimizer.Sgd(learning_rate=0.05)\n",
    "\n",
    "# Stochastic Reconfiguration\n",
    "sr = nk.optimizer.SR(diag_shift=0.1)\n",
    "\n",
    "# The variational state\n",
    "vs = nk.vqs.MCState(sa, ma, n_samples=1000)\n",
    "\n",
    "# The ground-state optimization loop\n",
    "gs = nk.VMC(\n",
    "    hamiltonian=H,\n",
    "    optimizer=op,\n",
    "    preconditioner=sr,\n",
    "    variational_state=vs)\n",
    "\n",
    "start = time.time()\n",
    "gs.run(out='RBM', n_iter=600)\n",
    "end = time.time()\n",
    "\n",
    "print('### RBM calculation')\n",
    "print('Has',vs.n_parameters,'parameters')\n",
    "print('The RBM calculation took',end-start,'seconds')"
   ]
  },
  {
   "cell_type": "code",
   "execution_count": 137,
   "metadata": {},
   "outputs": [],
   "source": [
    "# uniform = jax.numpy.zeros_like(vs.parameters[\"Dense\"][\"kernel\"])\n",
    "# # uniform /= jax.numpy.linalg.norm(uniform)\n",
    "# vs.parameters = {\"Dense\": {\"kernel\": uniform}}\n",
    "\n",
    "\n",
    "\n",
    "# gs = nk.VMC(\n",
    "#     hamiltonian=H,\n",
    "#     optimizer=op,\n",
    "#     preconditioner=sr,\n",
    "#     variational_state=vs)\n",
    "\n",
    "# start = time.time()\n",
    "# gs.run(out='RBM', n_iter=600)\n",
    "# end = time.time()\n",
    "\n",
    "# print('### RBM calculation')\n",
    "# print('Has',vs.n_parameters,'parameters')\n",
    "# print('The RBM calculation took',end-start,'seconds')"
   ]
  },
  {
   "cell_type": "code",
   "execution_count": 139,
   "metadata": {},
   "outputs": [],
   "source": [
    "import scipy.sparse as sp\n",
    "H_sparse = H.to_sparse()\n",
    "E, V = sp.linalg.eigsh(H_sparse, k=6, which='SA')"
   ]
  },
  {
   "cell_type": "code",
   "execution_count": 148,
   "metadata": {},
   "outputs": [
    {
     "data": {
      "text/plain": [
       "array([-4.82101062e-02,  2.64480276e-14,  8.33648070e-14, ...,\n",
       "        8.33656773e-14,  2.63996632e-14, -4.82101062e-02])"
      ]
     },
     "execution_count": 148,
     "metadata": {},
     "output_type": "execute_result"
    }
   ],
   "source": [
    "V[:, 0]"
   ]
  },
  {
   "cell_type": "code",
   "execution_count": 146,
   "metadata": {},
   "outputs": [
    {
     "data": {
      "text/plain": [
       "True"
      ]
     },
     "execution_count": 146,
     "metadata": {},
     "output_type": "execute_result"
    }
   ],
   "source": [
    "np.all(np.sign(np.round(V[:, 0], 5)) <= 0)"
   ]
  },
  {
   "cell_type": "code",
   "execution_count": 110,
   "metadata": {},
   "outputs": [],
   "source": [
    "states = H.hilbert.all_states()\n",
    "log_probs = ma.apply({\"params\":vs.parameters}, states)\n",
    "log_probs -= np.mean(log_probs)\n",
    "phi = np.exp(log_probs)\n",
    "phi /= np.linalg.norm(phi)"
   ]
  },
  {
   "cell_type": "code",
   "execution_count": 111,
   "metadata": {},
   "outputs": [
    {
     "data": {
      "text/plain": [
       "2.3824978799951824"
      ]
     },
     "execution_count": 111,
     "metadata": {},
     "output_type": "execute_result"
    }
   ],
   "source": [
    "phi @ H_sparse @ phi"
   ]
  },
  {
   "cell_type": "code",
   "execution_count": 7,
   "metadata": {},
   "outputs": [],
   "source": [
    "import scipy.sparse as sp\n",
    "H_sparse = H.to_sparse()\n",
    "E, V = sp.linalg.eigsh(H_sparse, k=6, which='SA')\n",
    "\n",
    "\n"
   ]
  },
  {
   "cell_type": "code",
   "execution_count": 98,
   "metadata": {},
   "outputs": [
    {
     "data": {
      "text/plain": [
       "array([[ 4.,  0.,  0., ...,  0.,  0.,  0.],\n",
       "       [ 0., 66., -1., ...,  0.,  0.,  0.],\n",
       "       [ 0., -1., 22., ...,  0.,  0.,  0.],\n",
       "       ...,\n",
       "       [ 0.,  0.,  0., ..., 22., -1.,  0.],\n",
       "       [ 0.,  0.,  0., ..., -1., 66.,  0.],\n",
       "       [ 0.,  0.,  0., ...,  0.,  0.,  4.]])"
      ]
     },
     "execution_count": 98,
     "metadata": {},
     "output_type": "execute_result"
    }
   ],
   "source": [
    "H_sparse.toarray() @ np."
   ]
  },
  {
   "cell_type": "code",
   "execution_count": 120,
   "metadata": {},
   "outputs": [],
   "source": [
    "H = dimer.hamiltonian(1.0, 1.0)"
   ]
  },
  {
   "cell_type": "code",
   "execution_count": 121,
   "metadata": {},
   "outputs": [
    {
     "data": {
      "text/plain": [
       "LocalOperator(dim=16, #acting_on=24 locations, constant=32.0, dtype=float64)"
      ]
     },
     "execution_count": 121,
     "metadata": {},
     "output_type": "execute_result"
    }
   ],
   "source": [
    "dimer.constraint()"
   ]
  },
  {
   "cell_type": "code",
   "execution_count": null,
   "metadata": {},
   "outputs": [],
   "source": []
  }
 ],
 "metadata": {
  "kernelspec": {
   "display_name": "py310",
   "language": "python",
   "name": "python3"
  },
  "language_info": {
   "codemirror_mode": {
    "name": "ipython",
    "version": 3
   },
   "file_extension": ".py",
   "mimetype": "text/x-python",
   "name": "python",
   "nbconvert_exporter": "python",
   "pygments_lexer": "ipython3",
   "version": "3.10.13"
  }
 },
 "nbformat": 4,
 "nbformat_minor": 2
}
