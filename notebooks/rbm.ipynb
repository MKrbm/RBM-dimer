{
 "cells": [
  {
   "cell_type": "code",
   "execution_count": 1,
   "metadata": {},
   "outputs": [],
   "source": [
    "import sys\n",
    "sys.path.insert(0, \"../\")"
   ]
  },
  {
   "cell_type": "code",
   "execution_count": 2,
   "metadata": {},
   "outputs": [],
   "source": [
    "import numpy as np\n",
    "import netket as nk\n",
    "import jax"
   ]
  },
  {
   "cell_type": "code",
   "execution_count": 3,
   "metadata": {},
   "outputs": [],
   "source": [
    "from spinlattice.lattice import get_lattice_data"
   ]
  },
  {
   "cell_type": "code",
   "execution_count": 4,
   "metadata": {},
   "outputs": [],
   "source": [
    "lt_info = get_lattice_data(\"dimer-hexagonal-lattice\", \"dimer-hexagonal\", [2, 2,], \"periodic\")"
   ]
  },
  {
   "cell_type": "code",
   "execution_count": 5,
   "metadata": {},
   "outputs": [],
   "source": [
    "import os\n",
    "os.environ[\"JAX_PLATFORM_NAME\"] = \"cpu\"\n"
   ]
  },
  {
   "cell_type": "code",
   "execution_count": 7,
   "metadata": {},
   "outputs": [],
   "source": [
    "N = lt_info.n_sites()\n",
    "hi = nk.hilbert.Spin(s=1 / 2, N=N)"
   ]
  },
  {
   "cell_type": "code",
   "execution_count": 10,
   "metadata": {},
   "outputs": [],
   "source": [
    "from netket.operator.spin import sigmax,sigmaz \n",
    "\n",
    "\n",
    "Gamma=[1, -1]\n",
    "H = sum([Gamma[c]*sigmax(hi,e[0]) * sigmax(hi, e[1]) for e, c in zip(lt_info.bonds, lt_info.bond_types)])\n",
    "\n"
   ]
  },
  {
   "cell_type": "code",
   "execution_count": 16,
   "metadata": {},
   "outputs": [
    {
     "data": {
      "text/plain": [
       "array([[[-1.],\n",
       "        [-1.],\n",
       "        [-1.],\n",
       "        [-1.]],\n",
       "\n",
       "       [[ 1.],\n",
       "        [ 1.],\n",
       "        [ 1.],\n",
       "        [ 1.]],\n",
       "\n",
       "       [[ 1.],\n",
       "        [ 1.],\n",
       "        [ 1.],\n",
       "        [ 1.]],\n",
       "\n",
       "       [[ 1.],\n",
       "        [ 1.],\n",
       "        [ 1.],\n",
       "        [ 1.]],\n",
       "\n",
       "       [[ 1.],\n",
       "        [ 1.],\n",
       "        [ 1.],\n",
       "        [ 1.]],\n",
       "\n",
       "       [[ 1.],\n",
       "        [ 1.],\n",
       "        [ 1.],\n",
       "        [ 1.]],\n",
       "\n",
       "       [[-1.],\n",
       "        [-1.],\n",
       "        [-1.],\n",
       "        [-1.]],\n",
       "\n",
       "       [[ 1.],\n",
       "        [ 1.],\n",
       "        [ 1.],\n",
       "        [ 1.]],\n",
       "\n",
       "       [[ 1.],\n",
       "        [ 1.],\n",
       "        [ 1.],\n",
       "        [ 1.]],\n",
       "\n",
       "       [[ 1.],\n",
       "        [ 1.],\n",
       "        [ 1.],\n",
       "        [ 1.]],\n",
       "\n",
       "       [[ 1.],\n",
       "        [ 1.],\n",
       "        [ 1.],\n",
       "        [ 1.]],\n",
       "\n",
       "       [[ 1.],\n",
       "        [ 1.],\n",
       "        [ 1.],\n",
       "        [ 1.]],\n",
       "\n",
       "       [[-1.],\n",
       "        [-1.],\n",
       "        [-1.],\n",
       "        [-1.]],\n",
       "\n",
       "       [[ 1.],\n",
       "        [ 1.],\n",
       "        [ 1.],\n",
       "        [ 1.]],\n",
       "\n",
       "       [[ 1.],\n",
       "        [ 1.],\n",
       "        [ 1.],\n",
       "        [ 1.]],\n",
       "\n",
       "       [[ 1.],\n",
       "        [ 1.],\n",
       "        [ 1.],\n",
       "        [ 1.]],\n",
       "\n",
       "       [[ 1.],\n",
       "        [ 1.],\n",
       "        [ 1.],\n",
       "        [ 1.]],\n",
       "\n",
       "       [[ 1.],\n",
       "        [ 1.],\n",
       "        [ 1.],\n",
       "        [ 1.]],\n",
       "\n",
       "       [[-1.],\n",
       "        [-1.],\n",
       "        [-1.],\n",
       "        [-1.]],\n",
       "\n",
       "       [[ 1.],\n",
       "        [ 1.],\n",
       "        [ 1.],\n",
       "        [ 1.]],\n",
       "\n",
       "       [[ 1.],\n",
       "        [ 1.],\n",
       "        [ 1.],\n",
       "        [ 1.]],\n",
       "\n",
       "       [[ 1.],\n",
       "        [ 1.],\n",
       "        [ 1.],\n",
       "        [ 1.]],\n",
       "\n",
       "       [[ 1.],\n",
       "        [ 1.],\n",
       "        [ 1.],\n",
       "        [ 1.]],\n",
       "\n",
       "       [[ 1.],\n",
       "        [ 1.],\n",
       "        [ 1.],\n",
       "        [ 1.]]])"
      ]
     },
     "execution_count": 16,
     "metadata": {},
     "output_type": "execute_result"
    }
   ],
   "source": [
    "H._setup()\n",
    "H._mels"
   ]
  },
  {
   "cell_type": "code",
   "execution_count": 17,
   "metadata": {},
   "outputs": [
    {
     "data": {
      "text/plain": [
       "array([[ 0,  1],\n",
       "       [ 1,  2],\n",
       "       [ 2,  3],\n",
       "       [ 2,  9],\n",
       "       [ 3,  4],\n",
       "       [ 3, 12],\n",
       "       [ 4,  5],\n",
       "       [ 5,  6],\n",
       "       [ 6,  7],\n",
       "       [ 6, 13],\n",
       "       [ 0,  7],\n",
       "       [ 7,  8],\n",
       "       [ 8,  9],\n",
       "       [ 9, 10],\n",
       "       [10, 11],\n",
       "       [ 1, 10],\n",
       "       [11, 12],\n",
       "       [ 4, 11],\n",
       "       [12, 13],\n",
       "       [13, 14],\n",
       "       [14, 15],\n",
       "       [ 5, 14],\n",
       "       [ 8, 15],\n",
       "       [ 0, 15]])"
      ]
     },
     "execution_count": 17,
     "metadata": {},
     "output_type": "execute_result"
    }
   ],
   "source": [
    "H._acting_on"
   ]
  },
  {
   "cell_type": "code",
   "execution_count": 19,
   "metadata": {},
   "outputs": [
    {
     "data": {
      "text/plain": [
       "array([[ 0,  1],\n",
       "       [ 1,  2],\n",
       "       [ 2,  3],\n",
       "       [ 2,  9],\n",
       "       [ 3,  4],\n",
       "       [ 3, 12],\n",
       "       [ 4,  5],\n",
       "       [ 5,  6],\n",
       "       [ 6,  7],\n",
       "       [ 6, 13],\n",
       "       [ 7,  0],\n",
       "       [ 7,  8],\n",
       "       [ 8,  9],\n",
       "       [ 9, 10],\n",
       "       [10, 11],\n",
       "       [10,  1],\n",
       "       [11, 12],\n",
       "       [11,  4],\n",
       "       [12, 13],\n",
       "       [13, 14],\n",
       "       [14, 15],\n",
       "       [14,  5],\n",
       "       [15,  8],\n",
       "       [15,  0]])"
      ]
     },
     "execution_count": 19,
     "metadata": {},
     "output_type": "execute_result"
    }
   ],
   "source": [
    "lt_info.bonds"
   ]
  },
  {
   "cell_type": "code",
   "execution_count": null,
   "metadata": {},
   "outputs": [],
   "source": []
  }
 ],
 "metadata": {
  "kernelspec": {
   "display_name": "py310",
   "language": "python",
   "name": "python3"
  },
  "language_info": {
   "codemirror_mode": {
    "name": "ipython",
    "version": 3
   },
   "file_extension": ".py",
   "mimetype": "text/x-python",
   "name": "python",
   "nbconvert_exporter": "python",
   "pygments_lexer": "ipython3",
   "version": "3.10.13"
  }
 },
 "nbformat": 4,
 "nbformat_minor": 2
}
